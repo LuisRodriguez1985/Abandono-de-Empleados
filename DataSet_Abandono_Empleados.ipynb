{
  "nbformat": 4,
  "nbformat_minor": 0,
  "metadata": {
    "colab": {
      "provenance": [],
      "collapsed_sections": [],
      "include_colab_link": true
    },
    "kernelspec": {
      "name": "python3",
      "display_name": "Python 3"
    },
    "language_info": {
      "name": "python"
    }
  },
  "cells": [
    {
      "cell_type": "markdown",
      "metadata": {
        "id": "view-in-github",
        "colab_type": "text"
      },
      "source": [
        "<a href=\"https://colab.research.google.com/github/LuisRodriguez1985/Abandono-de-Empleados/blob/main/TPS_Dia_1_Configuracion.ipynb\" target=\"_parent\"><img src=\"https://colab.research.google.com/assets/colab-badge.svg\" alt=\"Open In Colab\"/></a>"
      ]
    },
    {
      "cell_type": "markdown",
      "source": [
        "# TU PRIMERA SEMANA COMO DATA SCIENTIST (POR DS4B)"
      ],
      "metadata": {
        "id": "ng-TR6qGrO13"
      }
    },
    {
      "cell_type": "markdown",
      "source": [
        "## DIA 1: CONFIGURACIÓN DEL ENTORNO"
      ],
      "metadata": {
        "id": "bOpscQ6drkRi"
      }
    },
    {
      "cell_type": "markdown",
      "source": [
        "### CARGA DE LIBRERIAS"
      ],
      "metadata": {
        "id": "MKUOBPsiKK1w"
      }
    },
    {
      "cell_type": "code",
      "source": [
        "import numpy as np\n",
        "import pandas as pd\n",
        "import matplotlib.pyplot as plt\n",
        "%matplotlib inline"
      ],
      "metadata": {
        "id": "mU92c65BKN-D"
      },
      "execution_count": 1,
      "outputs": []
    },
    {
      "cell_type": "markdown",
      "source": [
        "### CARGA DE LOS DATOS"
      ],
      "metadata": {
        "id": "ANoZnP39rr1r"
      }
    },
    {
      "cell_type": "markdown",
      "source": [
        "Antes de continuar deberás:\n",
        "\n",
        "* Haber descargado los datos de la plataforma\n",
        "\n",
        "* Haberlos descomprimido en alguna carpeta de tu disco duro\n",
        "\n",
        "* Haberlos subido a Colab mediante el explorador de archivos (icono de carpeta - icono de subir archivo)"
      ],
      "metadata": {
        "id": "ejI_fsyyr_Nb"
      }
    },
    {
      "cell_type": "code",
      "source": [
        "df = pd.read_csv(\"/content/sample_data/AbandonoEmpleados.csv\", sep = ';', index_col= 'id', na_values='#N/D')"
      ],
      "metadata": {
        "id": "8g62zRfkx_qR"
      },
      "execution_count": 3,
      "outputs": []
    },
    {
      "cell_type": "code",
      "source": [
        "df.info()"
      ],
      "metadata": {
        "colab": {
          "base_uri": "https://localhost:8080/"
        },
        "id": "VbTfdnBQAB-j",
        "outputId": "c97f9ad3-ff21-40bb-db6e-d0571f12c34a"
      },
      "execution_count": 4,
      "outputs": [
        {
          "output_type": "stream",
          "name": "stdout",
          "text": [
            "<class 'pandas.core.frame.DataFrame'>\n",
            "Int64Index: 1470 entries, 1 to 2068\n",
            "Data columns (total 31 columns):\n",
            " #   Column                    Non-Null Count  Dtype  \n",
            "---  ------                    --------------  -----  \n",
            " 0   edad                      1470 non-null   int64  \n",
            " 1   abandono                  1470 non-null   object \n",
            " 2   viajes                    1470 non-null   object \n",
            " 3   departamento              1470 non-null   object \n",
            " 4   distancia_casa            1470 non-null   int64  \n",
            " 5   educacion                 1369 non-null   object \n",
            " 6   carrera                   1470 non-null   object \n",
            " 7   empleados                 1470 non-null   int64  \n",
            " 8   satisfaccion_entorno      1470 non-null   object \n",
            " 9   sexo                      1271 non-null   float64\n",
            " 10  implicacion               1452 non-null   object \n",
            " 11  nivel_laboral             1470 non-null   int64  \n",
            " 12  puesto                    1470 non-null   object \n",
            " 13  satisfaccion_trabajo      1394 non-null   object \n",
            " 14  estado_civil              1470 non-null   object \n",
            " 15  salario_mes               1470 non-null   int64  \n",
            " 16  num_empresas_anteriores   1470 non-null   int64  \n",
            " 17  mayor_edad                1470 non-null   object \n",
            " 18  horas_extra               1470 non-null   object \n",
            " 19  incremento_salario_porc   1470 non-null   int64  \n",
            " 20  evaluacion                1470 non-null   object \n",
            " 21  satisfaccion_companeros   1470 non-null   object \n",
            " 22  horas_quincena            1470 non-null   int64  \n",
            " 23  nivel_acciones            1470 non-null   int64  \n",
            " 24  anos_experiencia          1470 non-null   int64  \n",
            " 25  num_formaciones_ult_ano   1470 non-null   int64  \n",
            " 26  conciliacion              459 non-null    object \n",
            " 27  anos_compania             1470 non-null   int64  \n",
            " 28  anos_en_puesto            232 non-null    float64\n",
            " 29  anos_desde_ult_promocion  1470 non-null   int64  \n",
            " 30  anos_con_manager_actual   1470 non-null   int64  \n",
            "dtypes: float64(2), int64(14), object(15)\n",
            "memory usage: 367.5+ KB\n"
          ]
        }
      ]
    },
    {
      "cell_type": "markdown",
      "source": [
        "### ANALISIS DE DATOS NULOS\n",
        "\n",
        "Vamos a dectectar los nulos. "
      ],
      "metadata": {
        "id": "rTjH3Q6tQkdO"
      }
    },
    {
      "cell_type": "code",
      "source": [
        "df.isna().sum().sort_values(ascending = False) #identificacion de los nuulos, aqui hace un conteo y despues se ordena de manera ascendente  "
      ],
      "metadata": {
        "colab": {
          "base_uri": "https://localhost:8080/"
        },
        "id": "f15vAxKCQj1k",
        "outputId": "a0e7ebba-97cb-4bcf-f3cf-22d408b3132f"
      },
      "execution_count": 5,
      "outputs": [
        {
          "output_type": "execute_result",
          "data": {
            "text/plain": [
              "anos_en_puesto              1238\n",
              "conciliacion                1011\n",
              "sexo                         199\n",
              "educacion                    101\n",
              "satisfaccion_trabajo          76\n",
              "implicacion                   18\n",
              "edad                           0\n",
              "nivel_acciones                 0\n",
              "evaluacion                     0\n",
              "satisfaccion_companeros        0\n",
              "horas_quincena                 0\n",
              "anos_experiencia               0\n",
              "horas_extra                    0\n",
              "num_formaciones_ult_ano        0\n",
              "anos_compania                  0\n",
              "anos_desde_ult_promocion       0\n",
              "incremento_salario_porc        0\n",
              "salario_mes                    0\n",
              "mayor_edad                     0\n",
              "num_empresas_anteriores        0\n",
              "abandono                       0\n",
              "estado_civil                   0\n",
              "puesto                         0\n",
              "nivel_laboral                  0\n",
              "satisfaccion_entorno           0\n",
              "empleados                      0\n",
              "carrera                        0\n",
              "distancia_casa                 0\n",
              "departamento                   0\n",
              "viajes                         0\n",
              "anos_con_manager_actual        0\n",
              "dtype: int64"
            ]
          },
          "metadata": {},
          "execution_count": 5
        }
      ]
    }
  ]
}
